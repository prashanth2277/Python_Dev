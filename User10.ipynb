{
 "cells": [
  {
   "cell_type": "code",
   "execution_count": 172,
   "metadata": {},
   "outputs": [],
   "source": [
    "import requests\n",
    "from bs4 import BeautifulSoup\n",
    "import pandas as pd\n"
   ]
  },
  {
   "cell_type": "code",
   "execution_count": 174,
   "metadata": {},
   "outputs": [],
   "source": [
    "num_users=10\n",
    "username = []\n",
    "for i in range(num_users):\n",
    "    response = requests.get('https://randomuser.me/api/?inc=name')\n",
    "    data = response.json()\n",
    "    name = data['results'][0]['name']\n",
    "    username.append(name)\n"
   ]
  },
  {
   "cell_type": "code",
   "execution_count": 181,
   "metadata": {},
   "outputs": [
    {
     "name": "stdout",
     "output_type": "stream",
     "text": [
      "          title     first      last        full_name\n",
      "0            Mr     Edgar   Russell     EdgarRussell\n",
      "1        Madame    Alexia       Roy        AlexiaRoy\n",
      "2          Miss    Olivia      Joki       OliviaJoki\n",
      "3            Ms     Holly  Jennings    HollyJennings\n",
      "4            Mr      Fred    Castro       FredCastro\n",
      "5  Mademoiselle     Renée   Leclerc     RenéeLeclerc\n",
      "6            Mr     Barış   Sepetçi     BarışSepetçi\n",
      "7            Mr     Uriel     Urías       UrielUrías\n",
      "8            Ms  Gülseren   Fischer  GülserenFischer\n",
      "9          Miss      یسنا     احمدی        یسنااحمدی\n",
      "------------------------------------\n",
      "0       EdgarRussell\n",
      "1          AlexiaRoy\n",
      "2         OliviaJoki\n",
      "3      HollyJennings\n",
      "4         FredCastro\n",
      "5       RenéeLeclerc\n",
      "6       BarışSepetçi\n",
      "7         UrielUrías\n",
      "8    GülserenFischer\n",
      "9          یسنااحمدی\n",
      "Name: full_name, dtype: object\n"
     ]
    }
   ],
   "source": [
    "df = pd.DataFrame(username)\n",
    "df[\"full_name\"] = df[\"first\"] + df[\"last\"]\n",
    "print (df)\n",
    "print(\"------------------------------------\")\n",
    "print(df[\"full_name\"])"
   ]
  },
  {
   "cell_type": "code",
   "execution_count": null,
   "metadata": {},
   "outputs": [],
   "source": []
  }
 ],
 "metadata": {
  "kernelspec": {
   "display_name": "base",
   "language": "python",
   "name": "python3"
  },
  "language_info": {
   "codemirror_mode": {
    "name": "ipython",
    "version": 3
   },
   "file_extension": ".py",
   "mimetype": "text/x-python",
   "name": "python",
   "nbconvert_exporter": "python",
   "pygments_lexer": "ipython3",
   "version": "3.11.5"
  }
 },
 "nbformat": 4,
 "nbformat_minor": 2
}
